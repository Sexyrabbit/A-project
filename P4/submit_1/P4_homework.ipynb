{
 "cells": [
  {
   "cell_type": "markdown",
   "metadata": {},
   "source": [
    "# 问题： 有哪些因素会让船上的人生还率更高？"
   ]
  },
  {
   "cell_type": "markdown",
   "metadata": {},
   "source": [
    "## 参考文献：\n",
    "[Calculation and Visualization of Correlation Matrix with Pandas](https://datascience.stackexchange.com/questions/10459/calculation-and-visualization-of-correlation-matrix-with-pandas)\n",
    "\n",
    "[Matplotlib Color map](https://matplotlib.org/api/cm_api.html)\n",
    "\n",
    "[matplotlib add_subplot](http://www.codeweblog.com/matplotlib-pyplot中add_subplot方法参数111的含义/)\n",
    "\n",
    "[matplotlib imshow](https://matplotlib.org/devdocs/api/_as_gen/matplotlib.pyplot.imshow.html)\n",
    "\n",
    "[What does matplotlib `imshow(interpolation='nearest')` do?](https://stackoverflow.com/questions/12473511/what-does-matplotlib-imshowinterpolation-nearest-do)\n",
    "\n",
    "[matplotlib绘图常见设置](https://www.cnblogs.com/nju2014/p/5707980.html)"
   ]
  },
  {
   "cell_type": "code",
   "execution_count": 157,
   "metadata": {},
   "outputs": [
    {
     "data": {
      "text/html": [
       "<div>\n",
       "<style>\n",
       "    .dataframe thead tr:only-child th {\n",
       "        text-align: right;\n",
       "    }\n",
       "\n",
       "    .dataframe thead th {\n",
       "        text-align: left;\n",
       "    }\n",
       "\n",
       "    .dataframe tbody tr th {\n",
       "        vertical-align: top;\n",
       "    }\n",
       "</style>\n",
       "<table border=\"1\" class=\"dataframe\">\n",
       "  <thead>\n",
       "    <tr style=\"text-align: right;\">\n",
       "      <th></th>\n",
       "      <th>PassengerId</th>\n",
       "      <th>Survived</th>\n",
       "      <th>Pclass</th>\n",
       "      <th>Name</th>\n",
       "      <th>Sex</th>\n",
       "      <th>Age</th>\n",
       "      <th>SibSp</th>\n",
       "      <th>Parch</th>\n",
       "      <th>Ticket</th>\n",
       "      <th>Fare</th>\n",
       "      <th>Cabin</th>\n",
       "      <th>Embarked</th>\n",
       "    </tr>\n",
       "  </thead>\n",
       "  <tbody>\n",
       "    <tr>\n",
       "      <th>0</th>\n",
       "      <td>1</td>\n",
       "      <td>0</td>\n",
       "      <td>3</td>\n",
       "      <td>Braund, Mr. Owen Harris</td>\n",
       "      <td>male</td>\n",
       "      <td>22.0</td>\n",
       "      <td>1</td>\n",
       "      <td>0</td>\n",
       "      <td>A/5 21171</td>\n",
       "      <td>7.25</td>\n",
       "      <td>NaN</td>\n",
       "      <td>S</td>\n",
       "    </tr>\n",
       "  </tbody>\n",
       "</table>\n",
       "</div>"
      ],
      "text/plain": [
       "   PassengerId  Survived  Pclass                     Name   Sex   Age  SibSp  \\\n",
       "0            1         0       3  Braund, Mr. Owen Harris  male  22.0      1   \n",
       "\n",
       "   Parch     Ticket  Fare Cabin Embarked  \n",
       "0      0  A/5 21171  7.25   NaN        S  "
      ]
     },
     "execution_count": 157,
     "metadata": {},
     "output_type": "execute_result"
    }
   ],
   "source": [
    "# -*- coding: UTF-8 -*-\n",
    "# 加载样本数据,加载第三方库\n",
    "\n",
    "import pandas as pd\n",
    "import matplotlib\n",
    "import numpy as np\n",
    "import matplotlib.pyplot as plt\n",
    "import matplotlib.cm as cm\n",
    "import seaborn as sns\n",
    "\n",
    "%matplotlib inline\n",
    "\n",
    "raw_data = pd.read_csv('titanic-data.csv')\n",
    "\n",
    "raw_data[0:1]"
   ]
  },
  {
   "cell_type": "code",
   "execution_count": 10,
   "metadata": {
    "scrolled": true
   },
   "outputs": [
    {
     "data": {
      "text/html": [
       "<div>\n",
       "<style>\n",
       "    .dataframe thead tr:only-child th {\n",
       "        text-align: right;\n",
       "    }\n",
       "\n",
       "    .dataframe thead th {\n",
       "        text-align: left;\n",
       "    }\n",
       "\n",
       "    .dataframe tbody tr th {\n",
       "        vertical-align: top;\n",
       "    }\n",
       "</style>\n",
       "<table border=\"1\" class=\"dataframe\">\n",
       "  <thead>\n",
       "    <tr style=\"text-align: right;\">\n",
       "      <th></th>\n",
       "      <th>PassengerId</th>\n",
       "      <th>Survived</th>\n",
       "      <th>Pclass</th>\n",
       "      <th>Age</th>\n",
       "      <th>SibSp</th>\n",
       "      <th>Parch</th>\n",
       "      <th>Fare</th>\n",
       "    </tr>\n",
       "  </thead>\n",
       "  <tbody>\n",
       "    <tr>\n",
       "      <th>count</th>\n",
       "      <td>891.000000</td>\n",
       "      <td>891.000000</td>\n",
       "      <td>891.000000</td>\n",
       "      <td>714.000000</td>\n",
       "      <td>891.000000</td>\n",
       "      <td>891.000000</td>\n",
       "      <td>891.000000</td>\n",
       "    </tr>\n",
       "    <tr>\n",
       "      <th>mean</th>\n",
       "      <td>446.000000</td>\n",
       "      <td>0.383838</td>\n",
       "      <td>2.308642</td>\n",
       "      <td>29.699118</td>\n",
       "      <td>0.523008</td>\n",
       "      <td>0.381594</td>\n",
       "      <td>32.204208</td>\n",
       "    </tr>\n",
       "    <tr>\n",
       "      <th>std</th>\n",
       "      <td>257.353842</td>\n",
       "      <td>0.486592</td>\n",
       "      <td>0.836071</td>\n",
       "      <td>14.526497</td>\n",
       "      <td>1.102743</td>\n",
       "      <td>0.806057</td>\n",
       "      <td>49.693429</td>\n",
       "    </tr>\n",
       "    <tr>\n",
       "      <th>min</th>\n",
       "      <td>1.000000</td>\n",
       "      <td>0.000000</td>\n",
       "      <td>1.000000</td>\n",
       "      <td>0.420000</td>\n",
       "      <td>0.000000</td>\n",
       "      <td>0.000000</td>\n",
       "      <td>0.000000</td>\n",
       "    </tr>\n",
       "    <tr>\n",
       "      <th>25%</th>\n",
       "      <td>223.500000</td>\n",
       "      <td>0.000000</td>\n",
       "      <td>2.000000</td>\n",
       "      <td>20.125000</td>\n",
       "      <td>0.000000</td>\n",
       "      <td>0.000000</td>\n",
       "      <td>7.910400</td>\n",
       "    </tr>\n",
       "    <tr>\n",
       "      <th>50%</th>\n",
       "      <td>446.000000</td>\n",
       "      <td>0.000000</td>\n",
       "      <td>3.000000</td>\n",
       "      <td>28.000000</td>\n",
       "      <td>0.000000</td>\n",
       "      <td>0.000000</td>\n",
       "      <td>14.454200</td>\n",
       "    </tr>\n",
       "    <tr>\n",
       "      <th>75%</th>\n",
       "      <td>668.500000</td>\n",
       "      <td>1.000000</td>\n",
       "      <td>3.000000</td>\n",
       "      <td>38.000000</td>\n",
       "      <td>1.000000</td>\n",
       "      <td>0.000000</td>\n",
       "      <td>31.000000</td>\n",
       "    </tr>\n",
       "    <tr>\n",
       "      <th>max</th>\n",
       "      <td>891.000000</td>\n",
       "      <td>1.000000</td>\n",
       "      <td>3.000000</td>\n",
       "      <td>80.000000</td>\n",
       "      <td>8.000000</td>\n",
       "      <td>6.000000</td>\n",
       "      <td>512.329200</td>\n",
       "    </tr>\n",
       "  </tbody>\n",
       "</table>\n",
       "</div>"
      ],
      "text/plain": [
       "       PassengerId    Survived      Pclass         Age       SibSp  \\\n",
       "count   891.000000  891.000000  891.000000  714.000000  891.000000   \n",
       "mean    446.000000    0.383838    2.308642   29.699118    0.523008   \n",
       "std     257.353842    0.486592    0.836071   14.526497    1.102743   \n",
       "min       1.000000    0.000000    1.000000    0.420000    0.000000   \n",
       "25%     223.500000    0.000000    2.000000   20.125000    0.000000   \n",
       "50%     446.000000    0.000000    3.000000   28.000000    0.000000   \n",
       "75%     668.500000    1.000000    3.000000   38.000000    1.000000   \n",
       "max     891.000000    1.000000    3.000000   80.000000    8.000000   \n",
       "\n",
       "            Parch        Fare  \n",
       "count  891.000000  891.000000  \n",
       "mean     0.381594   32.204208  \n",
       "std      0.806057   49.693429  \n",
       "min      0.000000    0.000000  \n",
       "25%      0.000000    7.910400  \n",
       "50%      0.000000   14.454200  \n",
       "75%      0.000000   31.000000  \n",
       "max      6.000000  512.329200  "
      ]
     },
     "execution_count": 10,
     "metadata": {},
     "output_type": "execute_result"
    }
   ],
   "source": [
    "#相关数据\n",
    "raw_data.describe()"
   ]
  },
  {
   "cell_type": "code",
   "execution_count": 40,
   "metadata": {
    "scrolled": true
   },
   "outputs": [
    {
     "data": {
      "text/html": [
       "<div>\n",
       "<style>\n",
       "    .dataframe thead tr:only-child th {\n",
       "        text-align: right;\n",
       "    }\n",
       "\n",
       "    .dataframe thead th {\n",
       "        text-align: left;\n",
       "    }\n",
       "\n",
       "    .dataframe tbody tr th {\n",
       "        vertical-align: top;\n",
       "    }\n",
       "</style>\n",
       "<table border=\"1\" class=\"dataframe\">\n",
       "  <thead>\n",
       "    <tr style=\"text-align: right;\">\n",
       "      <th></th>\n",
       "      <th>PassengerId</th>\n",
       "      <th>Survived</th>\n",
       "      <th>Pclass</th>\n",
       "      <th>Age</th>\n",
       "      <th>SibSp</th>\n",
       "      <th>Parch</th>\n",
       "      <th>Fare</th>\n",
       "    </tr>\n",
       "  </thead>\n",
       "  <tbody>\n",
       "    <tr>\n",
       "      <th>PassengerId</th>\n",
       "      <td>1.000000</td>\n",
       "      <td>-0.005007</td>\n",
       "      <td>-0.035144</td>\n",
       "      <td>0.036847</td>\n",
       "      <td>-0.057527</td>\n",
       "      <td>-0.001652</td>\n",
       "      <td>0.012658</td>\n",
       "    </tr>\n",
       "    <tr>\n",
       "      <th>Survived</th>\n",
       "      <td>-0.005007</td>\n",
       "      <td>1.000000</td>\n",
       "      <td>-0.338481</td>\n",
       "      <td>-0.077221</td>\n",
       "      <td>-0.035322</td>\n",
       "      <td>0.081629</td>\n",
       "      <td>0.257307</td>\n",
       "    </tr>\n",
       "    <tr>\n",
       "      <th>Pclass</th>\n",
       "      <td>-0.035144</td>\n",
       "      <td>-0.338481</td>\n",
       "      <td>1.000000</td>\n",
       "      <td>-0.369226</td>\n",
       "      <td>0.083081</td>\n",
       "      <td>0.018443</td>\n",
       "      <td>-0.549500</td>\n",
       "    </tr>\n",
       "    <tr>\n",
       "      <th>Age</th>\n",
       "      <td>0.036847</td>\n",
       "      <td>-0.077221</td>\n",
       "      <td>-0.369226</td>\n",
       "      <td>1.000000</td>\n",
       "      <td>-0.308247</td>\n",
       "      <td>-0.189119</td>\n",
       "      <td>0.096067</td>\n",
       "    </tr>\n",
       "    <tr>\n",
       "      <th>SibSp</th>\n",
       "      <td>-0.057527</td>\n",
       "      <td>-0.035322</td>\n",
       "      <td>0.083081</td>\n",
       "      <td>-0.308247</td>\n",
       "      <td>1.000000</td>\n",
       "      <td>0.414838</td>\n",
       "      <td>0.159651</td>\n",
       "    </tr>\n",
       "    <tr>\n",
       "      <th>Parch</th>\n",
       "      <td>-0.001652</td>\n",
       "      <td>0.081629</td>\n",
       "      <td>0.018443</td>\n",
       "      <td>-0.189119</td>\n",
       "      <td>0.414838</td>\n",
       "      <td>1.000000</td>\n",
       "      <td>0.216225</td>\n",
       "    </tr>\n",
       "    <tr>\n",
       "      <th>Fare</th>\n",
       "      <td>0.012658</td>\n",
       "      <td>0.257307</td>\n",
       "      <td>-0.549500</td>\n",
       "      <td>0.096067</td>\n",
       "      <td>0.159651</td>\n",
       "      <td>0.216225</td>\n",
       "      <td>1.000000</td>\n",
       "    </tr>\n",
       "  </tbody>\n",
       "</table>\n",
       "</div>"
      ],
      "text/plain": [
       "             PassengerId  Survived    Pclass       Age     SibSp     Parch  \\\n",
       "PassengerId     1.000000 -0.005007 -0.035144  0.036847 -0.057527 -0.001652   \n",
       "Survived       -0.005007  1.000000 -0.338481 -0.077221 -0.035322  0.081629   \n",
       "Pclass         -0.035144 -0.338481  1.000000 -0.369226  0.083081  0.018443   \n",
       "Age             0.036847 -0.077221 -0.369226  1.000000 -0.308247 -0.189119   \n",
       "SibSp          -0.057527 -0.035322  0.083081 -0.308247  1.000000  0.414838   \n",
       "Parch          -0.001652  0.081629  0.018443 -0.189119  0.414838  1.000000   \n",
       "Fare            0.012658  0.257307 -0.549500  0.096067  0.159651  0.216225   \n",
       "\n",
       "                 Fare  \n",
       "PassengerId  0.012658  \n",
       "Survived     0.257307  \n",
       "Pclass      -0.549500  \n",
       "Age          0.096067  \n",
       "SibSp        0.159651  \n",
       "Parch        0.216225  \n",
       "Fare         1.000000  "
      ]
     },
     "execution_count": 40,
     "metadata": {},
     "output_type": "execute_result"
    }
   ],
   "source": [
    "# 皮尔逊积矩\n",
    "raw_data.corr()"
   ]
  },
  {
   "cell_type": "code",
   "execution_count": 135,
   "metadata": {},
   "outputs": [
    {
     "data": {
      "image/png": "[encoded data removed]",
      "text/plain": [
       "<matplotlib.figure.Figure at 0x1170c4c50>"
      ]
     },
     "metadata": {},
     "output_type": "display_data"
    }
   ],
   "source": [
    "# 图形化皮尔逊积矩表\n",
    "def correlation_matrix(df,labels):\n",
    "\n",
    "    fig = plt.figure()\n",
    "    fig.set_figheight(15)\n",
    "    fig.set_figwidth(15)\n",
    "    ax1 = fig.add_subplot(111) #一行一列的第一个\n",
    "    cmap = cm.get_cmap('jet', 999)\n",
    "    cax = ax1.imshow(df.corr(), interpolation=\"nearest\", cmap=cmap)\n",
    "    ax1.grid(True)\n",
    "    plt.title('table 1-1 data correlation')\n",
    "    #ax1.set_xticks(range(len(labels)))\n",
    "    ax1.set_xticklabels(labels,fontsize=11)\n",
    "    ax1.set_yticklabels(labels,fontsize=11)\n",
    "    # Add colorbar, make sure to specify tick locations to match desired ticklabels\n",
    "    fig.colorbar(cax, ticks=[.01,.05,.10,.50,.95,1])\n",
    "    plt.show()\n",
    "\n",
    "labels=['','PassengerId','Survived','Pclass','Age','SibSp','Parch','Fare']\n",
    "correlation_matrix(raw_data,labels)\n"
   ]
  },
  {
   "cell_type": "markdown",
   "metadata": {},
   "source": [
    "### 由皮尔逊积矩得出相关系数，几个强关联的数据为Fare和Pclass（-0.549500）为强负相关，\n",
    "### 即Fare（票价）越高，船仓等级越低（Pclass，等级越低越豪华，1最豪华）。\n",
    "### 而与生还率相关的数据为Pclass，Fare，其他数据可能由于皮尔逊积矩存在局限性，需要进一步调查。"
   ]
  },
  {
   "cell_type": "code",
   "execution_count": 113,
   "metadata": {},
   "outputs": [
    {
     "data": {
      "text/plain": [
       "342"
      ]
     },
     "execution_count": 113,
     "metadata": {},
     "output_type": "execute_result"
    }
   ],
   "source": [
    "#get unique survived_ppl set of passenger id\n",
    "survived_ppl = set()\n",
    "for indexs in raw_data.index:\n",
    "    if raw_data.loc[indexs].values[1] == 1:\n",
    "        survived_ppl.add(raw_data.loc[indexs].values[0])\n",
    "        \n",
    "len(survived_ppl)"
   ]
  },
  {
   "cell_type": "code",
   "execution_count": 89,
   "metadata": {},
   "outputs": [
    {
     "name": "stdout",
     "output_type": "stream",
     "text": [
      "Pclass    3\n",
      "Name: 0, dtype: int64\n"
     ]
    }
   ],
   "source": [
    "def getdata_1d_column(df,label):\n",
    "    return df[[label]]\n",
    "\n",
    "all_class = getdata_1d_column(raw_data,'Pclass')\n"
   ]
  },
  {
   "cell_type": "code",
   "execution_count": 105,
   "metadata": {},
   "outputs": [
    {
     "name": "stdout",
     "output_type": "stream",
     "text": [
      "total first class number:  216\n",
      "total second class number:  184\n",
      "total third class number:  491\n"
     ]
    }
   ],
   "source": [
    "print 'total first class number: ',len(raw_data.groupby('Pclass').groups[1])\n",
    "print 'total second class number: ',len(raw_data.groupby('Pclass').groups[2])\n",
    "print 'total third class number: ',len(raw_data.groupby('Pclass').groups[3])"
   ]
  },
  {
   "cell_type": "code",
   "execution_count": 125,
   "metadata": {},
   "outputs": [
    {
     "name": "stdout",
     "output_type": "stream",
     "text": [
      "total surviver numer for 3 clases :  136 87 119\n",
      "total death number for 3 classes :  80 97 372\n"
     ]
    }
   ],
   "source": [
    "def get_surviver_number_per_class(class_id):\n",
    "    result = 0\n",
    "    for index in raw_data.groupby('Pclass').groups[class_id]:\n",
    "        if index+1 in survived_ppl:\n",
    "            result += 1\n",
    "    return result\n",
    "\n",
    "total_first_class_surviver = get_surviver_number_per_class(1)\n",
    "total_second_class_surviver = get_surviver_number_per_class(2)\n",
    "total_third_class_surviver = get_surviver_number_per_class(3)\n",
    "\n",
    "print 'total surviver numer for 3 clases : ', \\\n",
    "total_first_class_surviver,total_second_class_surviver,total_third_class_surviver\n",
    "\n",
    "print 'total death number for 3 classes : ', 216-136, 184-87, 491-119\n",
    "\n"
   ]
  },
  {
   "cell_type": "code",
   "execution_count": 148,
   "metadata": {},
   "outputs": [
    {
     "data": {
      "image/png": "[encoded data removed]",
      "text/plain": [
       "<matplotlib.figure.Figure at 0x118f27390>"
      ]
     },
     "metadata": {},
     "output_type": "display_data"
    }
   ],
   "source": [
    "survive = (136, 87, 119)\n",
    "dead = (80, 97, 372)\n",
    "ind = np.arange(3)    # the x locations for the groups\n",
    "width = 0.35       # the width of the bars: can also be len(x) sequence\n",
    "\n",
    "p1 = plt.bar(ind, survive, width, color='#d62728')\n",
    "p2 = plt.bar(ind, dead, width,\n",
    "             bottom=menMeans)\n",
    "\n",
    "plt.ylabel('ppl number')\n",
    "plt.title('chart 1-2 ppl number group by Pclass')\n",
    "plt.xticks(ind, ('Pclass 1', 'Pclass 2', 'Pclass 3'))\n",
    "plt.yticks(np.arange(0, 501, 50))\n",
    "plt.legend((p1[0], p2[0]), ('Survived', 'Dead'))\n",
    "\n",
    "plt.show()\n"
   ]
  },
  {
   "cell_type": "markdown",
   "metadata": {},
   "source": [
    "### 由chart 1-2 数据得知Pclass 1的生还几率要高于Pclass 2 和 Pclass 3"
   ]
  },
  {
   "cell_type": "code",
   "execution_count": 156,
   "metadata": {},
   "outputs": [],
   "source": [
    "# 去掉空值\n",
    "def remove_empty_cells(dataframe, list_of_columns):\n",
    "    for column in list_of_columns:\n",
    "      dataframe[column] = dataframe[column].fillna(0)\n",
    "    return dataframe\n",
    "\n",
    "lists = ['Age','Cabin']\n",
    "\n",
    "new_data = remove_empty_cells(raw_data,lists)\n"
   ]
  },
  {
   "cell_type": "code",
   "execution_count": 193,
   "metadata": {},
   "outputs": [],
   "source": [
    "# get surviver_index_list\n",
    "i = -1\n",
    "surviver_index_list = set()\n",
    "for index in new_data[['Survived']].values:\n",
    "    i += 1  \n",
    "    if index[0] == 1:\n",
    "        surviver_index_list.add(i)\n"
   ]
  },
  {
   "cell_type": "code",
   "execution_count": 222,
   "metadata": {},
   "outputs": [
    {
     "data": {
      "text/plain": [
       "342"
      ]
     },
     "execution_count": 222,
     "metadata": {},
     "output_type": "execute_result"
    }
   ],
   "source": [
    "# get surviver age array\n",
    "surviver_age_arr = []\n",
    "\n",
    "for i in surviver_index_list:\n",
    "    surviver_age_arr.append(new_data.loc[i].loc['Age'])\n",
    "    \n",
    "len(surviver_age_arr)\n"
   ]
  },
  {
   "cell_type": "code",
   "execution_count": 239,
   "metadata": {},
   "outputs": [
    {
     "name": "stdout",
     "output_type": "stream",
     "text": [
      "number of survivers in age ascend order:\n",
      "52\n",
      "38\n",
      "44\n",
      "84\n",
      "69\n",
      "33\n",
      "17\n",
      "4\n",
      "1\n",
      "total survivers\n",
      "342\n",
      "survivers distributions in percentage form:\n",
      "0.152046783626\n",
      "0.111111111111\n",
      "0.12865497076\n",
      "0.245614035088\n",
      "0.201754385965\n",
      "0.0964912280702\n",
      "0.0497076023392\n",
      "0.0116959064327\n",
      "0.00292397660819\n"
     ]
    }
   ],
   "source": [
    "def number_counter(arr,min,max):\n",
    "    counter = 0\n",
    "    for i in arr:\n",
    "        if i <= max and i > min:\n",
    "            counter += 1\n",
    "    return counter\n",
    "\n",
    "num_surviver_0 = number_counter(surviver_age_arr,-1,0.0000)\n",
    "num_surviver_0_10 = number_counter(surviver_age_arr,0.0000,10)\n",
    "num_surviver_10_20 = number_counter(surviver_age_arr,10,20)\n",
    "num_surviver_20_30 = number_counter(surviver_age_arr,20,30)\n",
    "num_surviver_30_40 = number_counter(surviver_age_arr,30,40)\n",
    "num_surviver_40_50 = number_counter(surviver_age_arr,40,50)\n",
    "num_surviver_50_60 = number_counter(surviver_age_arr,50,60)\n",
    "num_surviver_60_70 = number_counter(surviver_age_arr,60,70)\n",
    "num_surviver_70_100 = number_counter(surviver_age_arr,70,100)\n",
    "\n",
    "print \"number of survivers in age ascend order:\"\n",
    "print num_surviver_0\n",
    "print num_surviver_0_10\n",
    "print num_surviver_10_20\n",
    "print num_surviver_20_30\n",
    "print num_surviver_30_40\n",
    "print num_surviver_40_50\n",
    "print num_surviver_50_60\n",
    "print num_surviver_60_70\n",
    "print num_surviver_70_100\n",
    "print \"total survivers\"\n",
    "print 52+38+44+69+33+17+4+84+1\n",
    "\n",
    "print \"survivers distributions in percentage form:\"\n",
    "print num_surviver_0/342.0\n",
    "print num_surviver_0_10/342.0\n",
    "print num_surviver_10_20/342.0\n",
    "print num_surviver_20_30/342.0\n",
    "print num_surviver_30_40/342.0\n",
    "print num_surviver_40_50/342.0\n",
    "print num_surviver_50_60/342.0\n",
    "print num_surviver_60_70/342.0\n",
    "print num_surviver_70_100/342.0"
   ]
  },
  {
   "cell_type": "code",
   "execution_count": 244,
   "metadata": {},
   "outputs": [
    {
     "data": {
      "image/png": "[encoded data removed]",
      "text/plain": [
       "<matplotlib.figure.Figure at 0x11a6df610>"
      ]
     },
     "metadata": {},
     "output_type": "display_data"
    }
   ],
   "source": [
    "\n",
    "from pylab import *\n",
    "\n",
    "# make a square figure and axes\n",
    "figure(1, figsize=(6,6))\n",
    "ax = axes([0.1, 0.1, 0.8, 0.8])\n",
    "\n",
    "# The slices will be ordered and plotted counter-clockwise.\n",
    "labels = 'age 0', '0-10', '10-20', '20-30','30-40','40-50','50-60','60-70','70-100'\n",
    "fracs = [0.152046783626,0.111111111111, 0.12865497076, 0.245614035088, 0.201754385965,0.0964912280702,0.0497076023392\\\n",
    "         ,0.0116959064327,0.00292397660819]\n",
    "explode=(0, 0, 0, 0, 0, 0, 0, 0, 0)\n",
    "\n",
    "pie(fracs, explode=explode,labels=labels,\n",
    "                autopct='%1.1f%%', shadow=True, startangle=90)\n",
    "                # The default startangle is 0, which would start\n",
    "                # the Frogs slice on the x-axis.  With startangle=90,\n",
    "                # everything is rotated counter-clockwise by 90 degrees,\n",
    "                # so the plotting starts on the positive y-axis.\n",
    "\n",
    "title('Survived ppl age distribution Pie chart 3-1', bbox={'facecolor':'0.8', 'pad':5})\n",
    "\n",
    "show()\n",
    "\n"
   ]
  },
  {
   "cell_type": "code",
   "execution_count": 230,
   "metadata": {},
   "outputs": [
    {
     "name": "stdout",
     "output_type": "stream",
     "text": [
      "177\n",
      "64\n",
      "115\n",
      "230\n",
      "155\n",
      "86\n",
      "42\n",
      "17\n",
      "5\n",
      "891\n",
      "0.198653198653\n",
      "0.0718294051627\n",
      "0.129068462402\n",
      "0.258136924804\n",
      "0.173961840629\n",
      "0.0965207631874\n",
      "0.047138047138\n",
      "0.0190796857464\n",
      "0.00561167227834\n"
     ]
    }
   ],
   "source": [
    "list_all_ages = new_data[['Age']].values\n",
    "num_0 = number_counter(list_all_ages,-1,0.0000)\n",
    "num_0_10 = number_counter(list_all_ages,0.0000,10)\n",
    "num_10_20 = number_counter(list_all_ages,10,20)\n",
    "num_20_30 = number_counter(list_all_ages,20,30)\n",
    "num_30_40 = number_counter(list_all_ages,30,40)\n",
    "num_40_50 = number_counter(list_all_ages,40,50)\n",
    "num_50_60 = number_counter(list_all_ages,50,60)\n",
    "num_60_70 = number_counter(list_all_ages,60,70)\n",
    "num_70_100 = number_counter(list_all_ages,70,100)\n",
    "\n",
    "print num_0\n",
    "print num_0_10\n",
    "print num_10_20\n",
    "print num_20_30\n",
    "print num_30_40\n",
    "print num_40_50\n",
    "print num_50_60\n",
    "print num_60_70\n",
    "print num_70_100\n",
    "\n",
    "print 177+64+115+230+155+86+42+17+5\n",
    "\n",
    "print num_0/891.0\n",
    "print num_0_10/891.0\n",
    "print num_10_20/891.0\n",
    "print num_20_30/891.0\n",
    "print num_30_40/891.0\n",
    "print num_40_50/891.0\n",
    "print num_50_60/891.0\n",
    "print num_60_70/891.0\n",
    "print num_70_100/891.0"
   ]
  },
  {
   "cell_type": "code",
   "execution_count": 245,
   "metadata": {},
   "outputs": [
    {
     "data": {
      "image/png": "[encoded data removed]",
      "text/plain": [
       "<matplotlib.figure.Figure at 0x11a7d2c90>"
      ]
     },
     "metadata": {},
     "output_type": "display_data"
    }
   ],
   "source": [
    "\n",
    "# make a square figure and axes\n",
    "figure(1, figsize=(6,6))\n",
    "ax = axes([0.1, 0.1, 0.8, 0.8])\n",
    "\n",
    "# The slices will be ordered and plotted counter-clockwise.\n",
    "labels = 'age 0', '0-10', '10-20', '20-30','30-40','40-50','50-60','60-70','70-100'\n",
    "fracs = [0.198653198653,0.0718294051627,0.129068462402,0.258136924804,0.173961840629,0.0965207631874,0.047138047138\\\n",
    "         ,0.0190796857464,0.00561167227834]\n",
    "explode=(0, 0, 0, 0, 0, 0, 0, 0, 0)\n",
    "\n",
    "pie(fracs, explode=explode,labels=labels,\n",
    "                autopct='%1.1f%%', shadow=True, startangle=90)\n",
    "                # The default startangle is 0, which would start\n",
    "                # the Frogs slice on the x-axis.  With startangle=90,\n",
    "                # everything is rotated counter-clockwise by 90 degrees,\n",
    "                # so the plotting starts on the positive y-axis.\n",
    "\n",
    "title('total ppl age distribution pie chart 3-2', bbox={'facecolor':'0.8', 'pad':5})\n",
    "\n",
    "show()\n",
    "\n",
    "\n"
   ]
  },
  {
   "cell_type": "code",
   "execution_count": 247,
   "metadata": {},
   "outputs": [
    {
     "name": "stdout",
     "output_type": "stream",
     "text": [
      "0.2937853107344632768361581921\n",
      "0.59375\n",
      "0.3826086956521739130434782609\n",
      "0.3652173913043478260869565217\n",
      "0.4451612903225806451612903226\n",
      "0.3837209302325581395348837209\n",
      "0.4047619047619047619047619048\n",
      "0.2352941176470588235294117647\n",
      "0.2\n"
     ]
    }
   ],
   "source": [
    "from decimal import Decimal\n",
    "\n",
    "print Decimal(num_surviver_0)     /Decimal(num_0)\n",
    "print Decimal(num_surviver_0_10)  /Decimal(num_0_10)\n",
    "print Decimal(num_surviver_10_20) /Decimal(num_10_20)\n",
    "print Decimal(num_surviver_20_30) /Decimal(num_20_30)\n",
    "print Decimal(num_surviver_30_40) /Decimal(num_30_40)\n",
    "print Decimal(num_surviver_40_50) /Decimal(num_40_50)\n",
    "print Decimal(num_surviver_50_60) /Decimal(num_50_60)\n",
    "print Decimal(num_surviver_60_70) /Decimal(num_60_70)\n",
    "print Decimal(num_surviver_70_100)/Decimal(num_70_100)\n"
   ]
  },
  {
   "cell_type": "code",
   "execution_count": 250,
   "metadata": {},
   "outputs": [
    {
     "data": {
      "image/png": "[encoded data removed]",
      "text/plain": [
       "<matplotlib.figure.Figure at 0x11a568c50>"
      ]
     },
     "metadata": {},
     "output_type": "display_data"
    }
   ],
   "source": [
    "survive = (0.29379,0.5938,0.3826,0.3652,0.4452,0.3837,0.4048,0.2353,0.2)\n",
    "\n",
    "ind = np.arange(9)    # the x locations for the groups\n",
    "width = 0.35       # the width of the bars: can also be len(x) sequence\n",
    "\n",
    "p1 = plt.bar(ind, survive, width, color='#d62728')\n",
    "\n",
    "\n",
    "plt.ylabel('age survive rate')\n",
    "plt.title('chart 4-1 survived rate for each age range')\n",
    "plt.xticks(ind, ('0', '0-10', '10-20','20-30','30-40','40-50','50-60','60-70','70-100'))\n",
    "plt.yticks(np.arange(0.05, 1, 0.05))\n",
    "\n",
    "plt.show()\n",
    "\n"
   ]
  },
  {
   "cell_type": "markdown",
   "metadata": {},
   "source": [
    "### 由上图可以分析得出，年龄在0-10岁获救的概率略高"
   ]
  },
  {
   "cell_type": "code",
   "execution_count": null,
   "metadata": {
    "collapsed": true
   },
   "outputs": [],
   "source": []
  }
 ],
 "metadata": {
  "kernelspec": {
   "display_name": "Python 2",
   "language": "python",
   "name": "python2"
  },
  "language_info": {
   "codemirror_mode": {
    "name": "ipython",
    "version": 2
   },
   "file_extension": ".py",
   "mimetype": "text/x-python",
   "name": "python",
   "nbconvert_exporter": "python",
   "pygments_lexer": "ipython2",
   "version": "2.7.14"
  }
 },
 "nbformat": 4,
 "nbformat_minor": 2
}
