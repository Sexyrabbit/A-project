{
 "cells": [
  {
   "cell_type": "markdown",
   "metadata": {},
   "source": [
    "# 问题： 有哪些因素会让船上的人生还率更高？"
   ]
  },
  {
   "cell_type": "markdown",
   "metadata": {},
   "source": [
    "## 简介：\n",
    "#### 项目数据来自[titanic-data.csv](https://github.com/ShiChJ/DAND-Basic-Materials/blob/master/P2/Project_Files/titanic-data.csv)，通过已有数据分析出泰坦尼克号上哪一类群体的生还几率更高\n"
   ]
  },
  {
   "cell_type": "markdown",
   "metadata": {},
   "source": [
    "## 数据整理：\n",
    "#### 由于数据中出现了空值，现将年龄列用年龄均值填充，由于cabin确实值太多，将cabin列删除\n",
    "#### 以下代码部分为加载数据并除去空值"
   ]
  },
  {
   "cell_type": "code",
   "execution_count": 591,
   "metadata": {},
   "outputs": [
    {
     "data": {
      "text/html": [
       "<div>\n",
       "<style>\n",
       "    .dataframe thead tr:only-child th {\n",
       "        text-align: right;\n",
       "    }\n",
       "\n",
       "    .dataframe thead th {\n",
       "        text-align: left;\n",
       "    }\n",
       "\n",
       "    .dataframe tbody tr th {\n",
       "        vertical-align: top;\n",
       "    }\n",
       "</style>\n",
       "<table border=\"1\" class=\"dataframe\">\n",
       "  <thead>\n",
       "    <tr style=\"text-align: right;\">\n",
       "      <th></th>\n",
       "      <th>PassengerId</th>\n",
       "      <th>Survived</th>\n",
       "      <th>Pclass</th>\n",
       "      <th>Name</th>\n",
       "      <th>Sex</th>\n",
       "      <th>Age</th>\n",
       "      <th>SibSp</th>\n",
       "      <th>Parch</th>\n",
       "      <th>Ticket</th>\n",
       "      <th>Fare</th>\n",
       "      <th>Embarked</th>\n",
       "    </tr>\n",
       "  </thead>\n",
       "  <tbody>\n",
       "    <tr>\n",
       "      <th>0</th>\n",
       "      <td>1</td>\n",
       "      <td>0</td>\n",
       "      <td>3</td>\n",
       "      <td>Braund, Mr. Owen Harris</td>\n",
       "      <td>male</td>\n",
       "      <td>22.000000</td>\n",
       "      <td>1</td>\n",
       "      <td>0</td>\n",
       "      <td>A/5 21171</td>\n",
       "      <td>7.2500</td>\n",
       "      <td>S</td>\n",
       "    </tr>\n",
       "    <tr>\n",
       "      <th>1</th>\n",
       "      <td>2</td>\n",
       "      <td>1</td>\n",
       "      <td>1</td>\n",
       "      <td>Cumings, Mrs. John Bradley (Florence Briggs Th...</td>\n",
       "      <td>female</td>\n",
       "      <td>38.000000</td>\n",
       "      <td>1</td>\n",
       "      <td>0</td>\n",
       "      <td>PC 17599</td>\n",
       "      <td>71.2833</td>\n",
       "      <td>C</td>\n",
       "    </tr>\n",
       "    <tr>\n",
       "      <th>2</th>\n",
       "      <td>3</td>\n",
       "      <td>1</td>\n",
       "      <td>3</td>\n",
       "      <td>Heikkinen, Miss. Laina</td>\n",
       "      <td>female</td>\n",
       "      <td>26.000000</td>\n",
       "      <td>0</td>\n",
       "      <td>0</td>\n",
       "      <td>STON/O2. 3101282</td>\n",
       "      <td>7.9250</td>\n",
       "      <td>S</td>\n",
       "    </tr>\n",
       "    <tr>\n",
       "      <th>3</th>\n",
       "      <td>4</td>\n",
       "      <td>1</td>\n",
       "      <td>1</td>\n",
       "      <td>Futrelle, Mrs. Jacques Heath (Lily May Peel)</td>\n",
       "      <td>female</td>\n",
       "      <td>35.000000</td>\n",
       "      <td>1</td>\n",
       "      <td>0</td>\n",
       "      <td>113803</td>\n",
       "      <td>53.1000</td>\n",
       "      <td>S</td>\n",
       "    </tr>\n",
       "    <tr>\n",
       "      <th>4</th>\n",
       "      <td>5</td>\n",
       "      <td>0</td>\n",
       "      <td>3</td>\n",
       "      <td>Allen, Mr. William Henry</td>\n",
       "      <td>male</td>\n",
       "      <td>35.000000</td>\n",
       "      <td>0</td>\n",
       "      <td>0</td>\n",
       "      <td>373450</td>\n",
       "      <td>8.0500</td>\n",
       "      <td>S</td>\n",
       "    </tr>\n",
       "    <tr>\n",
       "      <th>5</th>\n",
       "      <td>6</td>\n",
       "      <td>0</td>\n",
       "      <td>3</td>\n",
       "      <td>Moran, Mr. James</td>\n",
       "      <td>male</td>\n",
       "      <td>29.699118</td>\n",
       "      <td>0</td>\n",
       "      <td>0</td>\n",
       "      <td>330877</td>\n",
       "      <td>8.4583</td>\n",
       "      <td>Q</td>\n",
       "    </tr>\n",
       "    <tr>\n",
       "      <th>6</th>\n",
       "      <td>7</td>\n",
       "      <td>0</td>\n",
       "      <td>1</td>\n",
       "      <td>McCarthy, Mr. Timothy J</td>\n",
       "      <td>male</td>\n",
       "      <td>54.000000</td>\n",
       "      <td>0</td>\n",
       "      <td>0</td>\n",
       "      <td>17463</td>\n",
       "      <td>51.8625</td>\n",
       "      <td>S</td>\n",
       "    </tr>\n",
       "    <tr>\n",
       "      <th>7</th>\n",
       "      <td>8</td>\n",
       "      <td>0</td>\n",
       "      <td>3</td>\n",
       "      <td>Palsson, Master. Gosta Leonard</td>\n",
       "      <td>male</td>\n",
       "      <td>2.000000</td>\n",
       "      <td>3</td>\n",
       "      <td>1</td>\n",
       "      <td>349909</td>\n",
       "      <td>21.0750</td>\n",
       "      <td>S</td>\n",
       "    </tr>\n",
       "    <tr>\n",
       "      <th>8</th>\n",
       "      <td>9</td>\n",
       "      <td>1</td>\n",
       "      <td>3</td>\n",
       "      <td>Johnson, Mrs. Oscar W (Elisabeth Vilhelmina Berg)</td>\n",
       "      <td>female</td>\n",
       "      <td>27.000000</td>\n",
       "      <td>0</td>\n",
       "      <td>2</td>\n",
       "      <td>347742</td>\n",
       "      <td>11.1333</td>\n",
       "      <td>S</td>\n",
       "    </tr>\n",
       "    <tr>\n",
       "      <th>9</th>\n",
       "      <td>10</td>\n",
       "      <td>1</td>\n",
       "      <td>2</td>\n",
       "      <td>Nasser, Mrs. Nicholas (Adele Achem)</td>\n",
       "      <td>female</td>\n",
       "      <td>14.000000</td>\n",
       "      <td>1</td>\n",
       "      <td>0</td>\n",
       "      <td>237736</td>\n",
       "      <td>30.0708</td>\n",
       "      <td>C</td>\n",
       "    </tr>\n",
       "  </tbody>\n",
       "</table>\n",
       "</div>"
      ],
      "text/plain": [
       "   PassengerId  Survived  Pclass  \\\n",
       "0            1         0       3   \n",
       "1            2         1       1   \n",
       "2            3         1       3   \n",
       "3            4         1       1   \n",
       "4            5         0       3   \n",
       "5            6         0       3   \n",
       "6            7         0       1   \n",
       "7            8         0       3   \n",
       "8            9         1       3   \n",
       "9           10         1       2   \n",
       "\n",
       "                                                Name     Sex        Age  \\\n",
       "0                            Braund, Mr. Owen Harris    male  22.000000   \n",
       "1  Cumings, Mrs. John Bradley (Florence Briggs Th...  female  38.000000   \n",
       "2                             Heikkinen, Miss. Laina  female  26.000000   \n",
       "3       Futrelle, Mrs. Jacques Heath (Lily May Peel)  female  35.000000   \n",
       "4                           Allen, Mr. William Henry    male  35.000000   \n",
       "5                                   Moran, Mr. James    male  29.699118   \n",
       "6                            McCarthy, Mr. Timothy J    male  54.000000   \n",
       "7                     Palsson, Master. Gosta Leonard    male   2.000000   \n",
       "8  Johnson, Mrs. Oscar W (Elisabeth Vilhelmina Berg)  female  27.000000   \n",
       "9                Nasser, Mrs. Nicholas (Adele Achem)  female  14.000000   \n",
       "\n",
       "   SibSp  Parch            Ticket     Fare Embarked  \n",
       "0      1      0         A/5 21171   7.2500        S  \n",
       "1      1      0          PC 17599  71.2833        C  \n",
       "2      0      0  STON/O2. 3101282   7.9250        S  \n",
       "3      1      0            113803  53.1000        S  \n",
       "4      0      0            373450   8.0500        S  \n",
       "5      0      0            330877   8.4583        Q  \n",
       "6      0      0             17463  51.8625        S  \n",
       "7      3      1            349909  21.0750        S  \n",
       "8      0      2            347742  11.1333        S  \n",
       "9      1      0            237736  30.0708        C  "
      ]
     },
     "execution_count": 591,
     "metadata": {},
     "output_type": "execute_result"
    }
   ],
   "source": [
    "# -*- coding: UTF-8 -*-\n",
    "# 加载样本数据,加载第三方库\n",
    "\n",
    "import pandas as pd\n",
    "import matplotlib\n",
    "import numpy as np\n",
    "import matplotlib.pyplot as plt\n",
    "import matplotlib.cm as cm\n",
    "import seaborn as sns\n",
    "\n",
    "%matplotlib inline\n",
    "\n",
    "raw_data = pd.read_csv('titanic-data.csv')\n",
    "\n",
    "\n",
    "# 去掉空值, 年龄按均值填充, cabin\n",
    "def remove_empty_cells(dataframe, list_of_columns, replace):\n",
    "    for column in list_of_columns:\n",
    "      dataframe[column] = dataframe[column].fillna(replace)\n",
    "    return dataframe\n",
    "\n",
    "lists = ['Age']\n",
    "\n",
    "raw_data.Age.fillna(raw_data.Age.mean(),inplace=True)\n",
    "\n",
    "new_data = remove_empty_cells(raw_data,lists,raw_data.Age.mean())\n",
    "\n",
    "del raw_data['Cabin']\n",
    "\n",
    "raw_data[0:10]\n"
   ]
  },
  {
   "cell_type": "markdown",
   "metadata": {},
   "source": [
    "## 数据分析 part 1： 皮尔逊相关系数\n",
    "#### 以下代码将根据数据呈现出来的相关性，利用皮尔逊积矩等方法来分析数据。"
   ]
  },
  {
   "cell_type": "code",
   "execution_count": 592,
   "metadata": {
    "scrolled": true
   },
   "outputs": [
    {
     "data": {
      "text/html": [
       "<div>\n",
       "<style>\n",
       "    .dataframe thead tr:only-child th {\n",
       "        text-align: right;\n",
       "    }\n",
       "\n",
       "    .dataframe thead th {\n",
       "        text-align: left;\n",
       "    }\n",
       "\n",
       "    .dataframe tbody tr th {\n",
       "        vertical-align: top;\n",
       "    }\n",
       "</style>\n",
       "<table border=\"1\" class=\"dataframe\">\n",
       "  <thead>\n",
       "    <tr style=\"text-align: right;\">\n",
       "      <th></th>\n",
       "      <th>PassengerId</th>\n",
       "      <th>Survived</th>\n",
       "      <th>Pclass</th>\n",
       "      <th>Age</th>\n",
       "      <th>SibSp</th>\n",
       "      <th>Parch</th>\n",
       "      <th>Fare</th>\n",
       "    </tr>\n",
       "  </thead>\n",
       "  <tbody>\n",
       "    <tr>\n",
       "      <th>count</th>\n",
       "      <td>891.000000</td>\n",
       "      <td>891.000000</td>\n",
       "      <td>891.000000</td>\n",
       "      <td>891.000000</td>\n",
       "      <td>891.000000</td>\n",
       "      <td>891.000000</td>\n",
       "      <td>891.000000</td>\n",
       "    </tr>\n",
       "    <tr>\n",
       "      <th>mean</th>\n",
       "      <td>446.000000</td>\n",
       "      <td>0.383838</td>\n",
       "      <td>2.308642</td>\n",
       "      <td>29.699118</td>\n",
       "      <td>0.523008</td>\n",
       "      <td>0.381594</td>\n",
       "      <td>32.204208</td>\n",
       "    </tr>\n",
       "    <tr>\n",
       "      <th>std</th>\n",
       "      <td>257.353842</td>\n",
       "      <td>0.486592</td>\n",
       "      <td>0.836071</td>\n",
       "      <td>13.002015</td>\n",
       "      <td>1.102743</td>\n",
       "      <td>0.806057</td>\n",
       "      <td>49.693429</td>\n",
       "    </tr>\n",
       "    <tr>\n",
       "      <th>min</th>\n",
       "      <td>1.000000</td>\n",
       "      <td>0.000000</td>\n",
       "      <td>1.000000</td>\n",
       "      <td>0.420000</td>\n",
       "      <td>0.000000</td>\n",
       "      <td>0.000000</td>\n",
       "      <td>0.000000</td>\n",
       "    </tr>\n",
       "    <tr>\n",
       "      <th>25%</th>\n",
       "      <td>223.500000</td>\n",
       "      <td>0.000000</td>\n",
       "      <td>2.000000</td>\n",
       "      <td>22.000000</td>\n",
       "      <td>0.000000</td>\n",
       "      <td>0.000000</td>\n",
       "      <td>7.910400</td>\n",
       "    </tr>\n",
       "    <tr>\n",
       "      <th>50%</th>\n",
       "      <td>446.000000</td>\n",
       "      <td>0.000000</td>\n",
       "      <td>3.000000</td>\n",
       "      <td>29.699118</td>\n",
       "      <td>0.000000</td>\n",
       "      <td>0.000000</td>\n",
       "      <td>14.454200</td>\n",
       "    </tr>\n",
       "    <tr>\n",
       "      <th>75%</th>\n",
       "      <td>668.500000</td>\n",
       "      <td>1.000000</td>\n",
       "      <td>3.000000</td>\n",
       "      <td>35.000000</td>\n",
       "      <td>1.000000</td>\n",
       "      <td>0.000000</td>\n",
       "      <td>31.000000</td>\n",
       "    </tr>\n",
       "    <tr>\n",
       "      <th>max</th>\n",
       "      <td>891.000000</td>\n",
       "      <td>1.000000</td>\n",
       "      <td>3.000000</td>\n",
       "      <td>80.000000</td>\n",
       "      <td>8.000000</td>\n",
       "      <td>6.000000</td>\n",
       "      <td>512.329200</td>\n",
       "    </tr>\n",
       "  </tbody>\n",
       "</table>\n",
       "</div>"
      ],
      "text/plain": [
       "       PassengerId    Survived      Pclass         Age       SibSp  \\\n",
       "count   891.000000  891.000000  891.000000  891.000000  891.000000   \n",
       "mean    446.000000    0.383838    2.308642   29.699118    0.523008   \n",
       "std     257.353842    0.486592    0.836071   13.002015    1.102743   \n",
       "min       1.000000    0.000000    1.000000    0.420000    0.000000   \n",
       "25%     223.500000    0.000000    2.000000   22.000000    0.000000   \n",
       "50%     446.000000    0.000000    3.000000   29.699118    0.000000   \n",
       "75%     668.500000    1.000000    3.000000   35.000000    1.000000   \n",
       "max     891.000000    1.000000    3.000000   80.000000    8.000000   \n",
       "\n",
       "            Parch        Fare  \n",
       "count  891.000000  891.000000  \n",
       "mean     0.381594   32.204208  \n",
       "std      0.806057   49.693429  \n",
       "min      0.000000    0.000000  \n",
       "25%      0.000000    7.910400  \n",
       "50%      0.000000   14.454200  \n",
       "75%      0.000000   31.000000  \n",
       "max      6.000000  512.329200  "
      ]
     },
     "execution_count": 592,
     "metadata": {},
     "output_type": "execute_result"
    }
   ],
   "source": [
    "#相关数据，可进行数学计算，用于皮尔逊相关系数的计算\n",
    "raw_data.describe()"
   ]
  },
  {
   "cell_type": "markdown",
   "metadata": {},
   "source": [
    "##### 以下为皮尔逊相关系数的数据和可视化图像"
   ]
  },
  {
   "cell_type": "code",
   "execution_count": 593,
   "metadata": {
    "scrolled": true
   },
   "outputs": [
    {
     "data": {
      "text/html": [
       "<div>\n",
       "<style>\n",
       "    .dataframe thead tr:only-child th {\n",
       "        text-align: right;\n",
       "    }\n",
       "\n",
       "    .dataframe thead th {\n",
       "        text-align: left;\n",
       "    }\n",
       "\n",
       "    .dataframe tbody tr th {\n",
       "        vertical-align: top;\n",
       "    }\n",
       "</style>\n",
       "<table border=\"1\" class=\"dataframe\">\n",
       "  <thead>\n",
       "    <tr style=\"text-align: right;\">\n",
       "      <th></th>\n",
       "      <th>PassengerId</th>\n",
       "      <th>Survived</th>\n",
       "      <th>Pclass</th>\n",
       "      <th>Age</th>\n",
       "      <th>SibSp</th>\n",
       "      <th>Parch</th>\n",
       "      <th>Fare</th>\n",
       "    </tr>\n",
       "  </thead>\n",
       "  <tbody>\n",
       "    <tr>\n",
       "      <th>PassengerId</th>\n",
       "      <td>1.000000</td>\n",
       "      <td>-0.005007</td>\n",
       "      <td>-0.035144</td>\n",
       "      <td>0.033207</td>\n",
       "      <td>-0.057527</td>\n",
       "      <td>-0.001652</td>\n",
       "      <td>0.012658</td>\n",
       "    </tr>\n",
       "    <tr>\n",
       "      <th>Survived</th>\n",
       "      <td>-0.005007</td>\n",
       "      <td>1.000000</td>\n",
       "      <td>-0.338481</td>\n",
       "      <td>-0.069809</td>\n",
       "      <td>-0.035322</td>\n",
       "      <td>0.081629</td>\n",
       "      <td>0.257307</td>\n",
       "    </tr>\n",
       "    <tr>\n",
       "      <th>Pclass</th>\n",
       "      <td>-0.035144</td>\n",
       "      <td>-0.338481</td>\n",
       "      <td>1.000000</td>\n",
       "      <td>-0.331339</td>\n",
       "      <td>0.083081</td>\n",
       "      <td>0.018443</td>\n",
       "      <td>-0.549500</td>\n",
       "    </tr>\n",
       "    <tr>\n",
       "      <th>Age</th>\n",
       "      <td>0.033207</td>\n",
       "      <td>-0.069809</td>\n",
       "      <td>-0.331339</td>\n",
       "      <td>1.000000</td>\n",
       "      <td>-0.232625</td>\n",
       "      <td>-0.179191</td>\n",
       "      <td>0.091566</td>\n",
       "    </tr>\n",
       "    <tr>\n",
       "      <th>SibSp</th>\n",
       "      <td>-0.057527</td>\n",
       "      <td>-0.035322</td>\n",
       "      <td>0.083081</td>\n",
       "      <td>-0.232625</td>\n",
       "      <td>1.000000</td>\n",
       "      <td>0.414838</td>\n",
       "      <td>0.159651</td>\n",
       "    </tr>\n",
       "    <tr>\n",
       "      <th>Parch</th>\n",
       "      <td>-0.001652</td>\n",
       "      <td>0.081629</td>\n",
       "      <td>0.018443</td>\n",
       "      <td>-0.179191</td>\n",
       "      <td>0.414838</td>\n",
       "      <td>1.000000</td>\n",
       "      <td>0.216225</td>\n",
       "    </tr>\n",
       "    <tr>\n",
       "      <th>Fare</th>\n",
       "      <td>0.012658</td>\n",
       "      <td>0.257307</td>\n",
       "      <td>-0.549500</td>\n",
       "      <td>0.091566</td>\n",
       "      <td>0.159651</td>\n",
       "      <td>0.216225</td>\n",
       "      <td>1.000000</td>\n",
       "    </tr>\n",
       "  </tbody>\n",
       "</table>\n",
       "</div>"
      ],
      "text/plain": [
       "             PassengerId  Survived    Pclass       Age     SibSp     Parch  \\\n",
       "PassengerId     1.000000 -0.005007 -0.035144  0.033207 -0.057527 -0.001652   \n",
       "Survived       -0.005007  1.000000 -0.338481 -0.069809 -0.035322  0.081629   \n",
       "Pclass         -0.035144 -0.338481  1.000000 -0.331339  0.083081  0.018443   \n",
       "Age             0.033207 -0.069809 -0.331339  1.000000 -0.232625 -0.179191   \n",
       "SibSp          -0.057527 -0.035322  0.083081 -0.232625  1.000000  0.414838   \n",
       "Parch          -0.001652  0.081629  0.018443 -0.179191  0.414838  1.000000   \n",
       "Fare            0.012658  0.257307 -0.549500  0.091566  0.159651  0.216225   \n",
       "\n",
       "                 Fare  \n",
       "PassengerId  0.012658  \n",
       "Survived     0.257307  \n",
       "Pclass      -0.549500  \n",
       "Age          0.091566  \n",
       "SibSp        0.159651  \n",
       "Parch        0.216225  \n",
       "Fare         1.000000  "
      ]
     },
     "execution_count": 593,
     "metadata": {},
     "output_type": "execute_result"
    }
   ],
   "source": [
    "# 皮尔逊积矩\n",
    "raw_data.corr()"
   ]
  },
  {
   "cell_type": "code",
   "execution_count": 594,
   "metadata": {},
   "outputs": [
    {
     "data": {
      "image/png": "[encoded data removed]",
      "text/plain": [
       "<matplotlib.figure.Figure at 0x118bfd150>"
      ]
     },
     "metadata": {},
     "output_type": "display_data"
    }
   ],
   "source": [
    "# 图形化皮尔逊积矩表\n",
    "def correlation_matrix(df,labels):\n",
    "\n",
    "    fig = plt.figure()\n",
    "    fig.set_figheight(9)\n",
    "    fig.set_figwidth(9)\n",
    "    ax1 = fig.add_subplot(111) #一行一列的第一个\n",
    "    cmap = cm.get_cmap('jet', 999)\n",
    "    cax = ax1.imshow(df.corr(), interpolation=\"nearest\", cmap=cmap)\n",
    "    ax1.grid(True)\n",
    "    plt.title('table 1-1 data correlation')\n",
    "    #ax1.set_xticks(range(len(labels)))\n",
    "    ax1.set_xticklabels(labels,fontsize=11)\n",
    "    ax1.set_yticklabels(labels,fontsize=11)\n",
    "    # Add colorbar, make sure to specify tick locations to match desired ticklabels\n",
    "    fig.colorbar(cax, ticks=[.01,.05,.10,.50,.95,1])\n",
    "    plt.show()\n",
    "\n",
    "labels=['','PasngerId','Survived','Pclass','Age','SibSp','Parch','Fare']\n",
    "correlation_matrix(raw_data,labels)\n"
   ]
  },
  {
   "cell_type": "markdown",
   "metadata": {},
   "source": [
    "#### 从图1-1我们可以观察到，颜色对应越深，代表相关系数越高，从Survived列上观察，可得Survived和PClass的颜色最显著，\n",
    "#### 而PClass于Age，Survived，Fare相关性比较显著。"
   ]
  },
  {
   "cell_type": "markdown",
   "metadata": {},
   "source": [
    "### Part 1总结：\n",
    "\n",
    "#### 由皮尔逊积矩得出相关系数，几个强关联的数据为Fare和Pclass（-0.549500）为强负相关，\n",
    "#### 即Fare（票价）越高，船仓等级越低（Pclass，等级越低越豪华，1最豪华）。\n",
    "#### 由于票价包含了多人组团购买船票的因素，我们利用船舱等级来分析其与生还概率的关系。\n",
    "#### 值得注意的是，这个相关系数只能反映两个变量的线性相关性。所以哪怕相关系数接近于0，不表示两个变量没有相关性。"
   ]
  },
  {
   "cell_type": "markdown",
   "metadata": {},
   "source": [
    "## 数据分析 part 2： PClass于生还概率的关系\n",
    "#### 由皮尔逊相关系数的结果，我们先观察PClass与生还概率的关系，以下代码将分析生还率与Pclass相关的数据分布。\n",
    "#### 先计算每个PClass分类下的人数总量和生还者总量，然后将他们用可视化的图表展示出来观察其与生还率的关系。"
   ]
  },
  {
   "cell_type": "code",
   "execution_count": 595,
   "metadata": {
    "scrolled": true
   },
   "outputs": [
    {
     "data": {
      "text/plain": [
       "Survived\n",
       "0    549\n",
       "1    342\n",
       "dtype: int64"
      ]
     },
     "execution_count": 595,
     "metadata": {},
     "output_type": "execute_result"
    }
   ],
   "source": [
    "#get unique survived_ppl set of passenger id\n",
    "survived_ppl = set()\n",
    "for indexs in raw_data.index:\n",
    "    if raw_data.loc[indexs].values[1] == 1:\n",
    "        survived_ppl.add(raw_data.loc[indexs].values[0])\n",
    "        \n",
    "raw_data.groupby('Survived').size()"
   ]
  },
  {
   "cell_type": "code",
   "execution_count": 596,
   "metadata": {},
   "outputs": [
    {
     "data": {
      "text/plain": [
       "Pclass\n",
       "1    216\n",
       "2    184\n",
       "3    491\n",
       "dtype: int64"
      ]
     },
     "execution_count": 596,
     "metadata": {},
     "output_type": "execute_result"
    }
   ],
   "source": [
    "# 每个Pclass的总人数\n",
    "raw_data.groupby('Pclass').size()"
   ]
  },
  {
   "cell_type": "code",
   "execution_count": 597,
   "metadata": {},
   "outputs": [
    {
     "data": {
      "text/plain": [
       "Pclass  Survived\n",
       "1       0            80\n",
       "        1           136\n",
       "2       0            97\n",
       "        1            87\n",
       "3       0           372\n",
       "        1           119\n",
       "dtype: int64"
      ]
     },
     "execution_count": 597,
     "metadata": {},
     "output_type": "execute_result"
    }
   ],
   "source": [
    "# 每个Pclass的遇难者和生还者人数\n",
    "raw_data.groupby(['Pclass', 'Survived']).size()"
   ]
  },
  {
   "cell_type": "code",
   "execution_count": 598,
   "metadata": {},
   "outputs": [
    {
     "data": {
      "image/png": "[encoded data removed]",
      "text/plain": [
       "<matplotlib.figure.Figure at 0x11acb0d50>"
      ]
     },
     "metadata": {},
     "output_type": "display_data"
    }
   ],
   "source": [
    "\n",
    "# 绘制分组条形图\n",
    "ind = np.arange(3) \n",
    "\n",
    "grouped_data = raw_data.groupby(['Pclass', 'Survived']).size().unstack()\n",
    "grouped_data.plot(kind='bar', stacked=False, width = 0.35)\n",
    "plt.xticks(ind, ('Pclass 1', 'Pclass 2', 'Pclass 3'), rotation=0)\n",
    "plt.title('chart 2-1 ppl number groupby Pclass')\n",
    "plt.ylabel('ppl number count')\n",
    "plt.show()\n",
    "\n"
   ]
  },
  {
   "cell_type": "code",
   "execution_count": 599,
   "metadata": {},
   "outputs": [
    {
     "data": {
      "image/png": "[encoded data removed]",
      "text/plain": [
       "<matplotlib.figure.Figure at 0x118bb47d0>"
      ]
     },
     "metadata": {},
     "output_type": "display_data"
    }
   ],
   "source": [
    "# 绘制堆栈条形图\n",
    "grouped_data.plot(kind='bar', stacked=True)\n",
    "plt.xticks(ind, ('Pclass 1', 'Pclass 2', 'Pclass 3'), rotation=0)\n",
    "plt.title('chart 2-2 ppl number groupby Pclass-stacked')\n",
    "plt.ylabel('ppl number count')\n",
    "plt.show()\n",
    "\n",
    "\n"
   ]
  },
  {
   "cell_type": "markdown",
   "metadata": {},
   "source": [
    "### Part 2 总结：\n",
    "\n",
    "#### 由chart 2-1 可以得出，PClass1的生还者数量显著大于死亡者数量，为3个Class中最高的。\n",
    "#### 由chart 2-2 同样可以得出Pclass1点生还者数量最多，但Pclass1的总人数少于Pclass3稍多于Pclass2\n",
    "#### 由上可以得出，在PClass1上有助于提高生还率。"
   ]
  },
  {
   "cell_type": "markdown",
   "metadata": {},
   "source": [
    "## 数据分析 Part 3：生还率于其他数据的相关性\n",
    "\n",
    "#### 我们注意到年龄是最易区别个体的变量，而且年龄与PClass也有一定相关性，所以接下来分析年龄是否与生还率有一定联系\n",
    "#### 首先我们按照生还与否以及年龄进行分类，为了减少数据和可视化图像的复杂度，我们将年龄分类的bin size设为10，\n",
    "#### 下面代码为不同年龄段段人数\n"
   ]
  },
  {
   "cell_type": "code",
   "execution_count": 600,
   "metadata": {},
   "outputs": [
    {
     "data": {
      "text/plain": [
       "Age_group\n",
       "(0, 10]      64\n",
       "(10, 20]    115\n",
       "(20, 30]    407\n",
       "(30, 40]    155\n",
       "(40, 50]     86\n",
       "(50, 60]     42\n",
       "(60, 70]     17\n",
       "(70, 80]      5\n",
       "dtype: int64"
      ]
     },
     "execution_count": 600,
     "metadata": {},
     "output_type": "execute_result"
    }
   ],
   "source": [
    "bins=np.arange(0,90,10)\n",
    "raw_data['Age_group'] = pd.cut(raw_data['Age'], bins)\n",
    "raw_data.groupby('Age_group').size()\n"
   ]
  },
  {
   "cell_type": "markdown",
   "metadata": {},
   "source": [
    "#### 下面代码为不同年龄段和生还与否的人数"
   ]
  },
  {
   "cell_type": "code",
   "execution_count": 601,
   "metadata": {},
   "outputs": [
    {
     "data": {
      "text/plain": [
       "Age_group  Survived\n",
       "(0, 10]    0            26\n",
       "           1            38\n",
       "(10, 20]   0            71\n",
       "           1            44\n",
       "(20, 30]   0           271\n",
       "           1           136\n",
       "(30, 40]   0            86\n",
       "           1            69\n",
       "(40, 50]   0            53\n",
       "           1            33\n",
       "(50, 60]   0            25\n",
       "           1            17\n",
       "(60, 70]   0            13\n",
       "           1             4\n",
       "(70, 80]   0             4\n",
       "           1             1\n",
       "dtype: int64"
      ]
     },
     "execution_count": 601,
     "metadata": {},
     "output_type": "execute_result"
    }
   ],
   "source": [
    "raw_data.groupby(['Age_group', 'Survived']).size()"
   ]
  },
  {
   "cell_type": "markdown",
   "metadata": {},
   "source": [
    "#### 下面代码为生还者在不同年龄段段分布数量"
   ]
  },
  {
   "cell_type": "code",
   "execution_count": 602,
   "metadata": {},
   "outputs": [
    {
     "data": {
      "text/plain": [
       "Surviver_Age_group\n",
       "(0, 10]      38\n",
       "(10, 20]     44\n",
       "(20, 30]    136\n",
       "(30, 40]     69\n",
       "(40, 50]     33\n",
       "(50, 60]     17\n",
       "(60, 70]      4\n",
       "(70, 80]      1\n",
       "dtype: int64"
      ]
     },
     "execution_count": 602,
     "metadata": {},
     "output_type": "execute_result"
    }
   ],
   "source": [
    "raw_data['Surviver_Age_group'] = pd.cut(raw_data.loc[raw_data.Survived == 1]['Age'], bins)\n",
    "\n",
    "raw_data.groupby('Surviver_Age_group').size()\n"
   ]
  },
  {
   "cell_type": "markdown",
   "metadata": {},
   "source": [
    "#### 下面我们按照年龄分组，画出生还者与死亡人数的柱状图"
   ]
  },
  {
   "cell_type": "code",
   "execution_count": 603,
   "metadata": {},
   "outputs": [
    {
     "data": {
      "image/png": "[encoded data removed]",
      "text/plain": [
       "<matplotlib.figure.Figure at 0x11a5f33d0>"
      ]
     },
     "metadata": {},
     "output_type": "display_data"
    }
   ],
   "source": [
    "# 对年龄分组\n",
    "bins=np.arange(0,90,10)\n",
    "raw_data['Age_group'] = pd.cut(raw_data['Age'], bins)\n",
    "\n",
    "# 绘制不同分组的生还者和遇难者条形图\n",
    "grouped = raw_data.groupby(['Age_group', 'Survived']).size()\n",
    "grouped.unstack().plot(kind='bar', stacked=False)\n",
    "plt.ylabel('ppl number count')\n",
    "plt.title('chart 3-1 survived ppl number groupby Age_group')\n",
    "plt.show()"
   ]
  },
  {
   "cell_type": "markdown",
   "metadata": {},
   "source": [
    "#### 下面代码求不同年龄段的生还率，由于死亡者为0，生还者为1，每个年龄组的survived列的均值即为生还率。"
   ]
  },
  {
   "cell_type": "code",
   "execution_count": 604,
   "metadata": {},
   "outputs": [
    {
     "data": {
      "text/plain": [
       "Age_group\n",
       "(0, 10]     0.593750\n",
       "(10, 20]    0.382609\n",
       "(20, 30]    0.334152\n",
       "(30, 40]    0.445161\n",
       "(40, 50]    0.383721\n",
       "(50, 60]    0.404762\n",
       "(60, 70]    0.235294\n",
       "(70, 80]    0.200000\n",
       "Name: Survived, dtype: float64"
      ]
     },
     "execution_count": 604,
     "metadata": {},
     "output_type": "execute_result"
    }
   ],
   "source": [
    "\n",
    "raw_data.groupby('Age_group')['Survived'].mean()"
   ]
  },
  {
   "cell_type": "code",
   "execution_count": 605,
   "metadata": {},
   "outputs": [
    {
     "data": {
      "image/png": "[encoded data removed]",
      "text/plain": [
       "<matplotlib.figure.Figure at 0x11790dc10>"
      ]
     },
     "metadata": {},
     "output_type": "display_data"
    }
   ],
   "source": [
    "raw_data.groupby('Age_group')['Survived'].mean().plot(kind='bar', stacked=False)\n",
    "plt.ylabel('Survival rate')\n",
    "plt.title('chart 3-2 survival rate groupby Age_group')\n",
    "plt.show()"
   ]
  },
  {
   "cell_type": "markdown",
   "metadata": {},
   "source": [
    "### Part 3 总结：\n",
    "\n",
    "#### 由3-1可以分析得出，年龄在20-30岁人数最多，虽然生还者最多，但是死亡人数也是最多的，而年龄在0-10岁，\n",
    "#### 生还人数比死亡人数要多，由3-2更可以看出，0-10岁分组多生还率为0.59（取两位小数），是最高的，所以结论为，\n",
    "#### 年龄在0-10岁的生还概率最高。"
   ]
  },
  {
   "cell_type": "markdown",
   "metadata": {},
   "source": [
    "## 结论\n",
    "\n",
    "\n",
    "#### 本报告的结论为，当乘客在PClass为1的情况下生还概率比其他PClass高，年龄段在0-10之间的获救概率大于其他年龄层。\n",
    "#### 报告中使用的数据是乘客总体数据，数据中缺失的部分如年龄，按照均值填充，Cabin由于缺失部分太多将其删除，\n",
    "#### 缺失的数据会对总体造成相应的影响，但由于数目不大，而且按照均值填充，对结论的产生影响不大。\n",
    "#### 数据中Fare的数据应当与Pclass成正相关，但有些数据不符，据观察是由于其中包含了多人的票价。\n",
    "#### 报告并没有讨论的所有变量，只讨论了几个相关性比较显著的变量，其他变量比如性别，家属或许会有一定相关性。"
   ]
  },
  {
   "cell_type": "markdown",
   "metadata": {},
   "source": [
    "## 参考文献：\n",
    "[Calculation and Visualization of Correlation Matrix with Pandas](https://datascience.stackexchange.com/questions/10459/calculation-and-visualization-of-correlation-matrix-with-pandas)\n",
    "\n",
    "[Matplotlib Color map](https://matplotlib.org/api/cm_api.html)\n",
    "\n",
    "[matplotlib add_subplot](http://www.codeweblog.com/matplotlib-pyplot中add_subplot方法参数111的含义/)\n",
    "\n",
    "[matplotlib imshow](https://matplotlib.org/devdocs/api/_as_gen/matplotlib.pyplot.imshow.html)\n",
    "\n",
    "[What does matplotlib `imshow(interpolation='nearest')` do?](https://stackoverflow.com/questions/12473511/what-does-matplotlib-imshowinterpolation-nearest-do)\n",
    "\n",
    "[matplotlib绘图常见设置](https://www.cnblogs.com/nju2014/p/5707980.html)"
   ]
  },
  {
   "cell_type": "code",
   "execution_count": null,
   "metadata": {
    "collapsed": true
   },
   "outputs": [],
   "source": []
  }
 ],
 "metadata": {
  "kernelspec": {
   "display_name": "Python 2",
   "language": "python",
   "name": "python2"
  },
  "language_info": {
   "codemirror_mode": {
    "name": "ipython",
    "version": 2
   },
   "file_extension": ".py",
   "mimetype": "text/x-python",
   "name": "python",
   "nbconvert_exporter": "python",
   "pygments_lexer": "ipython2",
   "version": "2.7.14"
  }
 },
 "nbformat": 4,
 "nbformat_minor": 2
}
